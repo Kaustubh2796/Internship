{
 "cells": [
  {
   "cell_type": "code",
   "execution_count": 61,
   "id": "c218d7c4",
   "metadata": {},
   "outputs": [
    {
     "name": "stdout",
     "output_type": "stream",
     "text": [
      "Enter a Number for Factorial= 5\n",
      "f= 1\n",
      "f= 2\n",
      "f= 6\n",
      "f= 24\n",
      "f= 120\n",
      "Factorial of a number = 120\n"
     ]
    }
   ],
   "source": [
    "#Factorial of a Number\n",
    "a=int(input(\"Enter a Number for Factorial= \"))\n",
    "f=1\n",
    "if a < 0 :\n",
    "    print(\"Enter Positive Integer\")\n",
    "elif a==0:\n",
    "    print('Factorial = 1')\n",
    "else:\n",
    "    for i in range(1,a+1,1):\n",
    "        f=f*i\n",
    "        print('f=',f)\n",
    "    print('Factorial of a number =',f)"
   ]
  },
  {
   "cell_type": "code",
   "execution_count": 80,
   "id": "85ded2f1",
   "metadata": {},
   "outputs": [
    {
     "name": "stdout",
     "output_type": "stream",
     "text": [
      "Enter a Number to Verify= 23\n",
      "Prime Number\n"
     ]
    }
   ],
   "source": [
    "#Prime Number\n",
    "a=int(input(\"Enter a Number to Verify= \"))\n",
    "count=0\n",
    "if a==0 | a==1:\n",
    "    print('Neither prime nor composite')\n",
    "elif a>1:\n",
    "    for i in range(2,a):\n",
    "        if a%i==0:\n",
    "            count=count+1\n",
    "        else:\n",
    "            break\n",
    "    if count == 0:\n",
    "        print('Prime Number')\n",
    "    else:\n",
    "        print('Composite Number')"
   ]
  },
  {
   "cell_type": "code",
   "execution_count": 7,
   "id": "e3962d8f",
   "metadata": {},
   "outputs": [
    {
     "name": "stdout",
     "output_type": "stream",
     "text": [
      "Enter a Number to Verify= 101\n",
      "Number is Palindrome\n"
     ]
    }
   ],
   "source": [
    "#Palindrome\n",
    "a=int(input(\"Enter a Number to Verify= \"))\n",
    "t=a                #Temporary variable\n",
    "reverse=0\n",
    "while (a>0):\n",
    "    m=a%10         #spliting from units place\n",
    "    reverse=reverse*10+m\n",
    "    a=a//10        #Eliminating every last digit in each cycle\n",
    "if t==reverse:\n",
    "    print('Number is Palindrome')\n",
    "else:\n",
    "    print('Number is not a Palindrome')"
   ]
  },
  {
   "cell_type": "code",
   "execution_count": 107,
   "id": "53ae5f1e",
   "metadata": {},
   "outputs": [
    {
     "name": "stdout",
     "output_type": "stream",
     "text": [
      "Enter side 1 of Triangle =1\n",
      "Enter side 2 of Triangle =1\n",
      "Third Side of Triangle =  1.4142135623730951\n"
     ]
    }
   ],
   "source": [
    "# Right Angle triangle \n",
    "import math\n",
    "s1=int(input('Enter side 1 of Triangle ='))# Side 1\n",
    "s2=int(input('Enter side 2 of Triangle ='))# Side 2\n",
    "a=s1*s1\n",
    "b=s2*s2\n",
    "c=a+b\n",
    "ans=math.sqrt(c)\n",
    "print('Third Side of Triangle = ',ans)"
   ]
  },
  {
   "cell_type": "code",
   "execution_count": 10,
   "id": "4cf4a2db",
   "metadata": {},
   "outputs": [
    {
     "name": "stdout",
     "output_type": "stream",
     "text": [
      "Enter a String = kaustubh\n",
      "1\n",
      "1\n",
      "1\n",
      "1\n",
      "1\n",
      "1\n",
      "1\n",
      "\n",
      " ***** Answer *****\n",
      "{'k': 1, 'a': 1, 'u': 2, 's': 1, 't': 1, 'b': 1, 'h': 1}\n"
     ]
    }
   ],
   "source": [
    "a=input('Enter a String = ')\n",
    "count=0\n",
    "total={}\n",
    "for i in a:\n",
    "    if i in total:\n",
    "        total[i]=total[i]+1\n",
    "    else:\n",
    "        total[i]=1\n",
    "        print(total[i])\n",
    "    count=count+1\n",
    "print('\\n','*'*5,'Answer','*'*5)\n",
    "print(total)"
   ]
  }
 ],
 "metadata": {
  "kernelspec": {
   "display_name": "Python 3 (ipykernel)",
   "language": "python",
   "name": "python3"
  },
  "language_info": {
   "codemirror_mode": {
    "name": "ipython",
    "version": 3
   },
   "file_extension": ".py",
   "mimetype": "text/x-python",
   "name": "python",
   "nbconvert_exporter": "python",
   "pygments_lexer": "ipython3",
   "version": "3.9.7"
  }
 },
 "nbformat": 4,
 "nbformat_minor": 5
}
